{
 "cells": [
  {
   "cell_type": "code",
   "execution_count": 2,
   "id": "48ee2f20",
   "metadata": {},
   "outputs": [],
   "source": [
    "import numpy as np\n",
    "import pandas as pd\n",
    "\n",
    "import matplotlib.pyplot as plt\n",
    "import seaborn as sns\n",
    "\n",
    "import warnings\n",
    "warnings.filterwarnings(\"ignore\")\n"
   ]
  },
  {
   "cell_type": "code",
   "execution_count": null,
   "id": "b2d5eb7d",
   "metadata": {},
   "outputs": [],
   "source": [
    "#the used car data to do analysis.\n",
    "#this data includes various cars listed in various cities like\n",
    "#Hydrabad,Mumbai,Delhi,Banglore and other metropolitan cities."
   ]
  },
  {
   "cell_type": "code",
   "execution_count": 28,
   "id": "3fc05b2c",
   "metadata": {
    "scrolled": true
   },
   "outputs": [
    {
     "data": {
      "text/html": [
       "<div>\n",
       "<style scoped>\n",
       "    .dataframe tbody tr th:only-of-type {\n",
       "        vertical-align: middle;\n",
       "    }\n",
       "\n",
       "    .dataframe tbody tr th {\n",
       "        vertical-align: top;\n",
       "    }\n",
       "\n",
       "    .dataframe thead th {\n",
       "        text-align: right;\n",
       "    }\n",
       "</style>\n",
       "<table border=\"1\" class=\"dataframe\">\n",
       "  <thead>\n",
       "    <tr style=\"text-align: right;\">\n",
       "      <th></th>\n",
       "      <th>Unnamed: 0</th>\n",
       "      <th>cars_name</th>\n",
       "      <th>cars_brand</th>\n",
       "      <th>model</th>\n",
       "      <th>model_year</th>\n",
       "      <th>car_type</th>\n",
       "      <th>kms</th>\n",
       "      <th>owner</th>\n",
       "      <th>gasoliene_type</th>\n",
       "      <th>price</th>\n",
       "      <th>emi_per_month</th>\n",
       "      <th>zero_downpayment</th>\n",
       "      <th>city</th>\n",
       "      <th>state</th>\n",
       "    </tr>\n",
       "  </thead>\n",
       "  <tbody>\n",
       "    <tr>\n",
       "      <th>0</th>\n",
       "      <td>0</td>\n",
       "      <td>Ford Ecosport</td>\n",
       "      <td>Ford</td>\n",
       "      <td>1.5 TITANIUMTDCI OPT</td>\n",
       "      <td>2013</td>\n",
       "      <td>Manual</td>\n",
       "      <td>179045</td>\n",
       "      <td>1</td>\n",
       "      <td>Diesel</td>\n",
       "      <td>507599</td>\n",
       "      <td>11291</td>\n",
       "      <td>Zero downpayment</td>\n",
       "      <td>Hyderabad</td>\n",
       "      <td>Telangana</td>\n",
       "    </tr>\n",
       "    <tr>\n",
       "      <th>1</th>\n",
       "      <td>1</td>\n",
       "      <td>Maruti Swift</td>\n",
       "      <td>Maruti</td>\n",
       "      <td>ZDI</td>\n",
       "      <td>2012</td>\n",
       "      <td>Manual</td>\n",
       "      <td>78819</td>\n",
       "      <td>2</td>\n",
       "      <td>Diesel</td>\n",
       "      <td>476699</td>\n",
       "      <td>10604</td>\n",
       "      <td>Zero downpayment</td>\n",
       "      <td>Hyderabad</td>\n",
       "      <td>Telangana</td>\n",
       "    </tr>\n",
       "    <tr>\n",
       "      <th>2</th>\n",
       "      <td>2</td>\n",
       "      <td>Honda Mobilio</td>\n",
       "      <td>Honda</td>\n",
       "      <td>1.5 V OPT I DTEC</td>\n",
       "      <td>2014</td>\n",
       "      <td>Manual</td>\n",
       "      <td>97289</td>\n",
       "      <td>2</td>\n",
       "      <td>Diesel</td>\n",
       "      <td>494799</td>\n",
       "      <td>11007</td>\n",
       "      <td>Zero downpayment</td>\n",
       "      <td>Hyderabad</td>\n",
       "      <td>Telangana</td>\n",
       "    </tr>\n",
       "    <tr>\n",
       "      <th>3</th>\n",
       "      <td>3</td>\n",
       "      <td>Maruti Wagon R 1.0</td>\n",
       "      <td>Maruti</td>\n",
       "      <td>VXI</td>\n",
       "      <td>2013</td>\n",
       "      <td>Manual</td>\n",
       "      <td>45693</td>\n",
       "      <td>2</td>\n",
       "      <td>Petrol</td>\n",
       "      <td>331999</td>\n",
       "      <td>7385</td>\n",
       "      <td>Zero downpayment</td>\n",
       "      <td>Hyderabad</td>\n",
       "      <td>Telangana</td>\n",
       "    </tr>\n",
       "    <tr>\n",
       "      <th>4</th>\n",
       "      <td>4</td>\n",
       "      <td>Hyundai i20 Active</td>\n",
       "      <td>Hyundai</td>\n",
       "      <td>1.2 S</td>\n",
       "      <td>2016</td>\n",
       "      <td>Manual</td>\n",
       "      <td>40586</td>\n",
       "      <td>1</td>\n",
       "      <td>Petrol</td>\n",
       "      <td>620299</td>\n",
       "      <td>13798</td>\n",
       "      <td>Zero downpayment</td>\n",
       "      <td>Hyderabad</td>\n",
       "      <td>Telangana</td>\n",
       "    </tr>\n",
       "    <tr>\n",
       "      <th>...</th>\n",
       "      <td>...</td>\n",
       "      <td>...</td>\n",
       "      <td>...</td>\n",
       "      <td>...</td>\n",
       "      <td>...</td>\n",
       "      <td>...</td>\n",
       "      <td>...</td>\n",
       "      <td>...</td>\n",
       "      <td>...</td>\n",
       "      <td>...</td>\n",
       "      <td>...</td>\n",
       "      <td>...</td>\n",
       "      <td>...</td>\n",
       "      <td>...</td>\n",
       "    </tr>\n",
       "    <tr>\n",
       "      <th>4485</th>\n",
       "      <td>4485</td>\n",
       "      <td>Maruti Swift</td>\n",
       "      <td>Maruti</td>\n",
       "      <td>VDI</td>\n",
       "      <td>2013</td>\n",
       "      <td>Manual</td>\n",
       "      <td>35212</td>\n",
       "      <td>1</td>\n",
       "      <td>Diesel</td>\n",
       "      <td>32799</td>\n",
       "      <td>627</td>\n",
       "      <td>Zero downpayment</td>\n",
       "      <td>Pune</td>\n",
       "      <td>Maharashtra</td>\n",
       "    </tr>\n",
       "    <tr>\n",
       "      <th>4486</th>\n",
       "      <td>4486</td>\n",
       "      <td>Maruti Eeco</td>\n",
       "      <td>Maruti</td>\n",
       "      <td>5 STR WITH AC PLUSHTR</td>\n",
       "      <td>2018</td>\n",
       "      <td>Manual</td>\n",
       "      <td>23573</td>\n",
       "      <td>1</td>\n",
       "      <td>Petrol</td>\n",
       "      <td>27399</td>\n",
       "      <td>507</td>\n",
       "      <td>Zero downpayment</td>\n",
       "      <td>Pune</td>\n",
       "      <td>Maharashtra</td>\n",
       "    </tr>\n",
       "    <tr>\n",
       "      <th>4487</th>\n",
       "      <td>4487</td>\n",
       "      <td>Maruti Alto 800</td>\n",
       "      <td>Maruti</td>\n",
       "      <td>LXI</td>\n",
       "      <td>2018</td>\n",
       "      <td>Manual</td>\n",
       "      <td>33004</td>\n",
       "      <td>1</td>\n",
       "      <td>Petrol</td>\n",
       "      <td>9699</td>\n",
       "      <td>889</td>\n",
       "      <td>Zero downpayment</td>\n",
       "      <td>Pune</td>\n",
       "      <td>Maharashtra</td>\n",
       "    </tr>\n",
       "    <tr>\n",
       "      <th>4488</th>\n",
       "      <td>4488</td>\n",
       "      <td>Maruti Alto K10</td>\n",
       "      <td>Maruti</td>\n",
       "      <td>LXI CNG (O)</td>\n",
       "      <td>2019</td>\n",
       "      <td>Manual</td>\n",
       "      <td>57875</td>\n",
       "      <td>1</td>\n",
       "      <td>Petrol</td>\n",
       "      <td>31299</td>\n",
       "      <td>594</td>\n",
       "      <td>Zero downpayment</td>\n",
       "      <td>Pune</td>\n",
       "      <td>Maharashtra</td>\n",
       "    </tr>\n",
       "    <tr>\n",
       "      <th>4489</th>\n",
       "      <td>4489</td>\n",
       "      <td>Maruti Alto 800</td>\n",
       "      <td>Maruti</td>\n",
       "      <td>VXI</td>\n",
       "      <td>2018</td>\n",
       "      <td>Manual</td>\n",
       "      <td>20369</td>\n",
       "      <td>1</td>\n",
       "      <td>Petrol</td>\n",
       "      <td>23199</td>\n",
       "      <td>189</td>\n",
       "      <td>Zero downpayment</td>\n",
       "      <td>Pune</td>\n",
       "      <td>Maharashtra</td>\n",
       "    </tr>\n",
       "  </tbody>\n",
       "</table>\n",
       "<p>4490 rows × 14 columns</p>\n",
       "</div>"
      ],
      "text/plain": [
       "      Unnamed: 0           cars_name cars_brand                   model  \\\n",
       "0              0       Ford Ecosport       Ford   1.5 TITANIUMTDCI OPT    \n",
       "1              1        Maruti Swift     Maruti                    ZDI    \n",
       "2              2       Honda Mobilio      Honda       1.5 V OPT I DTEC    \n",
       "3              3  Maruti Wagon R 1.0     Maruti                    VXI    \n",
       "4              4  Hyundai i20 Active    Hyundai                  1.2 S    \n",
       "...          ...                 ...        ...                     ...   \n",
       "4485        4485        Maruti Swift     Maruti                    VDI    \n",
       "4486        4486         Maruti Eeco     Maruti  5 STR WITH AC PLUSHTR    \n",
       "4487        4487     Maruti Alto 800     Maruti                    LXI    \n",
       "4488        4488     Maruti Alto K10     Maruti            LXI CNG (O)    \n",
       "4489        4489     Maruti Alto 800     Maruti                    VXI    \n",
       "\n",
       "      model_year car_type     kms  owner gasoliene_type   price  \\\n",
       "0           2013   Manual  179045      1         Diesel  507599   \n",
       "1           2012   Manual   78819      2         Diesel  476699   \n",
       "2           2014   Manual   97289      2         Diesel  494799   \n",
       "3           2013   Manual   45693      2         Petrol  331999   \n",
       "4           2016   Manual   40586      1         Petrol  620299   \n",
       "...          ...      ...     ...    ...            ...     ...   \n",
       "4485        2013   Manual   35212      1         Diesel   32799   \n",
       "4486        2018   Manual   23573      1         Petrol   27399   \n",
       "4487        2018   Manual   33004      1         Petrol    9699   \n",
       "4488        2019   Manual   57875      1         Petrol   31299   \n",
       "4489        2018   Manual   20369      1         Petrol   23199   \n",
       "\n",
       "      emi_per_month  zero_downpayment       city        state  \n",
       "0             11291  Zero downpayment  Hyderabad    Telangana  \n",
       "1             10604  Zero downpayment  Hyderabad    Telangana  \n",
       "2             11007  Zero downpayment  Hyderabad    Telangana  \n",
       "3              7385  Zero downpayment  Hyderabad    Telangana  \n",
       "4             13798  Zero downpayment  Hyderabad    Telangana  \n",
       "...             ...               ...        ...          ...  \n",
       "4485            627  Zero downpayment       Pune  Maharashtra  \n",
       "4486            507  Zero downpayment       Pune  Maharashtra  \n",
       "4487            889  Zero downpayment       Pune  Maharashtra  \n",
       "4488            594  Zero downpayment       Pune  Maharashtra  \n",
       "4489            189  Zero downpayment       Pune  Maharashtra  \n",
       "\n",
       "[4490 rows x 14 columns]"
      ]
     },
     "execution_count": 28,
     "metadata": {},
     "output_type": "execute_result"
    }
   ],
   "source": [
    "df=pd.read_csv(\"cars24fullclean.csv\")\n",
    "df"
   ]
  },
  {
   "cell_type": "code",
   "execution_count": null,
   "id": "a8581f55",
   "metadata": {},
   "outputs": [],
   "source": [
    "#considered features are:\n",
    "#1.cars name   2.cars brand   3.cars model   4.model year\n",
    "#5.type(M/A)   6.kms          7.owner series 8.gasoline type\n",
    "#9.price      10.Emi/month   11.city        12.state"
   ]
  },
  {
   "cell_type": "code",
   "execution_count": 20,
   "id": "60ac3a29",
   "metadata": {},
   "outputs": [
    {
     "name": "stdout",
     "output_type": "stream",
     "text": [
      "<class 'pandas.core.frame.DataFrame'>\n",
      "RangeIndex: 4490 entries, 0 to 4489\n",
      "Data columns (total 14 columns):\n",
      " #   Column            Non-Null Count  Dtype \n",
      "---  ------            --------------  ----- \n",
      " 0   Unnamed: 0        4490 non-null   int64 \n",
      " 1   cars_name         4490 non-null   object\n",
      " 2   cars_brand        4490 non-null   object\n",
      " 3   model             4490 non-null   object\n",
      " 4   model_year        4490 non-null   int64 \n",
      " 5   car_type          4490 non-null   object\n",
      " 6   kms               4490 non-null   int64 \n",
      " 7   owner             4490 non-null   int64 \n",
      " 8   gasoliene_type    4490 non-null   object\n",
      " 9   price             4490 non-null   int64 \n",
      " 10  emi_per_month     4490 non-null   int64 \n",
      " 11  zero_downpayment  4490 non-null   object\n",
      " 12  city              4490 non-null   object\n",
      " 13  state             4490 non-null   object\n",
      "dtypes: int64(6), object(8)\n",
      "memory usage: 491.2+ KB\n"
     ]
    }
   ],
   "source": [
    "df.info()"
   ]
  },
  {
   "cell_type": "code",
   "execution_count": null,
   "id": "74517c83",
   "metadata": {},
   "outputs": [],
   "source": [
    "#there is no null value in data\n",
    "#total int64 dtype=(6)\n",
    "#total object dtype=(8)"
   ]
  },
  {
   "cell_type": "code",
   "execution_count": 21,
   "id": "61ff4ff9",
   "metadata": {},
   "outputs": [
    {
     "data": {
      "text/html": [
       "<div>\n",
       "<style scoped>\n",
       "    .dataframe tbody tr th:only-of-type {\n",
       "        vertical-align: middle;\n",
       "    }\n",
       "\n",
       "    .dataframe tbody tr th {\n",
       "        vertical-align: top;\n",
       "    }\n",
       "\n",
       "    .dataframe thead th {\n",
       "        text-align: right;\n",
       "    }\n",
       "</style>\n",
       "<table border=\"1\" class=\"dataframe\">\n",
       "  <thead>\n",
       "    <tr style=\"text-align: right;\">\n",
       "      <th></th>\n",
       "      <th>Unnamed: 0</th>\n",
       "      <th>model_year</th>\n",
       "      <th>kms</th>\n",
       "      <th>owner</th>\n",
       "      <th>price</th>\n",
       "      <th>emi_per_month</th>\n",
       "    </tr>\n",
       "  </thead>\n",
       "  <tbody>\n",
       "    <tr>\n",
       "      <th>count</th>\n",
       "      <td>4490.000000</td>\n",
       "      <td>4490.000000</td>\n",
       "      <td>4490.000000</td>\n",
       "      <td>4490.000000</td>\n",
       "      <td>4.490000e+03</td>\n",
       "      <td>4490.000000</td>\n",
       "    </tr>\n",
       "    <tr>\n",
       "      <th>mean</th>\n",
       "      <td>2244.500000</td>\n",
       "      <td>2016.516481</td>\n",
       "      <td>45227.062361</td>\n",
       "      <td>1.228285</td>\n",
       "      <td>3.269645e+05</td>\n",
       "      <td>6972.457238</td>\n",
       "    </tr>\n",
       "    <tr>\n",
       "      <th>std</th>\n",
       "      <td>1296.295684</td>\n",
       "      <td>2.281839</td>\n",
       "      <td>33100.553227</td>\n",
       "      <td>0.482024</td>\n",
       "      <td>3.498120e+05</td>\n",
       "      <td>8011.797982</td>\n",
       "    </tr>\n",
       "    <tr>\n",
       "      <th>min</th>\n",
       "      <td>0.000000</td>\n",
       "      <td>1997.000000</td>\n",
       "      <td>58.000000</td>\n",
       "      <td>1.000000</td>\n",
       "      <td>0.000000e+00</td>\n",
       "      <td>0.000000</td>\n",
       "    </tr>\n",
       "    <tr>\n",
       "      <th>25%</th>\n",
       "      <td>1122.250000</td>\n",
       "      <td>2015.000000</td>\n",
       "      <td>21563.250000</td>\n",
       "      <td>1.000000</td>\n",
       "      <td>4.879900e+04</td>\n",
       "      <td>505.250000</td>\n",
       "    </tr>\n",
       "    <tr>\n",
       "      <th>50%</th>\n",
       "      <td>2244.500000</td>\n",
       "      <td>2017.000000</td>\n",
       "      <td>38188.000000</td>\n",
       "      <td>1.000000</td>\n",
       "      <td>2.226490e+05</td>\n",
       "      <td>4952.500000</td>\n",
       "    </tr>\n",
       "    <tr>\n",
       "      <th>75%</th>\n",
       "      <td>3366.750000</td>\n",
       "      <td>2018.000000</td>\n",
       "      <td>60620.250000</td>\n",
       "      <td>1.000000</td>\n",
       "      <td>5.326740e+05</td>\n",
       "      <td>11849.000000</td>\n",
       "    </tr>\n",
       "    <tr>\n",
       "      <th>max</th>\n",
       "      <td>4489.000000</td>\n",
       "      <td>2021.000000</td>\n",
       "      <td>280921.000000</td>\n",
       "      <td>8.000000</td>\n",
       "      <td>2.377599e+06</td>\n",
       "      <td>52888.000000</td>\n",
       "    </tr>\n",
       "  </tbody>\n",
       "</table>\n",
       "</div>"
      ],
      "text/plain": [
       "        Unnamed: 0   model_year            kms        owner         price  \\\n",
       "count  4490.000000  4490.000000    4490.000000  4490.000000  4.490000e+03   \n",
       "mean   2244.500000  2016.516481   45227.062361     1.228285  3.269645e+05   \n",
       "std    1296.295684     2.281839   33100.553227     0.482024  3.498120e+05   \n",
       "min       0.000000  1997.000000      58.000000     1.000000  0.000000e+00   \n",
       "25%    1122.250000  2015.000000   21563.250000     1.000000  4.879900e+04   \n",
       "50%    2244.500000  2017.000000   38188.000000     1.000000  2.226490e+05   \n",
       "75%    3366.750000  2018.000000   60620.250000     1.000000  5.326740e+05   \n",
       "max    4489.000000  2021.000000  280921.000000     8.000000  2.377599e+06   \n",
       "\n",
       "       emi_per_month  \n",
       "count    4490.000000  \n",
       "mean     6972.457238  \n",
       "std      8011.797982  \n",
       "min         0.000000  \n",
       "25%       505.250000  \n",
       "50%      4952.500000  \n",
       "75%     11849.000000  \n",
       "max     52888.000000  "
      ]
     },
     "execution_count": 21,
     "metadata": {},
     "output_type": "execute_result"
    }
   ],
   "source": [
    "df.describe()"
   ]
  },
  {
   "cell_type": "code",
   "execution_count": null,
   "id": "28bba384",
   "metadata": {},
   "outputs": [],
   "source": [
    "#positively skewed= kms, owner, price, emi_per_month\n",
    "#(there are chances of out liers in above data)\n",
    "#negatively skewed= model_year"
   ]
  },
  {
   "cell_type": "code",
   "execution_count": 40,
   "id": "35330588",
   "metadata": {},
   "outputs": [
    {
     "data": {
      "text/plain": [
       "array(['Telangana', 'Gujarat', 'Karnataka', 'Tamilnadu', 'Haryana',\n",
       "       'Rajasthan', 'West Bengal', 'Maharashtra'], dtype=object)"
      ]
     },
     "execution_count": 40,
     "metadata": {},
     "output_type": "execute_result"
    }
   ],
   "source": [
    "df[\"state\"].unique() # All states in data"
   ]
  },
  {
   "cell_type": "code",
   "execution_count": 41,
   "id": "d671262f",
   "metadata": {},
   "outputs": [
    {
     "data": {
      "text/plain": [
       "array(['Hyderabad', 'Ahmedabad', 'Bengaluru', 'Chennai', 'Coimbatore',\n",
       "       'Gurgaon', 'Jaipur', 'Kolkata', 'Mumbai', 'Pune'], dtype=object)"
      ]
     },
     "execution_count": 41,
     "metadata": {},
     "output_type": "execute_result"
    }
   ],
   "source": [
    "df[\"city\"].unique() # All cities in data"
   ]
  },
  {
   "cell_type": "code",
   "execution_count": 44,
   "id": "6b0c8e37",
   "metadata": {},
   "outputs": [
    {
     "data": {
      "text/plain": [
       "array(['Ford', 'Maruti', 'Honda', 'Hyundai', 'Skoda', 'Mahindra',\n",
       "       'Renault', 'Volkswagen', 'Toyota', 'Datsun', 'Mercedes', 'Tata',\n",
       "       'MG', 'Audi', 'Jeep', 'KIA', 'Nissan', 'Fiat', 'ISUZU', 'BMW',\n",
       "       'HYUNDAI', 'RENAULT', 'Chevrolet', 'Landrover', 'Jaguar'],\n",
       "      dtype=object)"
      ]
     },
     "execution_count": 44,
     "metadata": {},
     "output_type": "execute_result"
    }
   ],
   "source": [
    "df[\"cars_brand\"].unique() # All the car brands in data"
   ]
  },
  {
   "cell_type": "code",
   "execution_count": 45,
   "id": "b71641ca",
   "metadata": {},
   "outputs": [
    {
     "data": {
      "text/plain": [
       "array(['Diesel', 'Petrol'], dtype=object)"
      ]
     },
     "execution_count": 45,
     "metadata": {},
     "output_type": "execute_result"
    }
   ],
   "source": [
    "df[\"gasoliene_type\"].unique() # fuel types"
   ]
  },
  {
   "cell_type": "code",
   "execution_count": 58,
   "id": "f8210def",
   "metadata": {},
   "outputs": [
    {
     "data": {
      "text/plain": [
       "array([1, 2, 3, 4, 8], dtype=int64)"
      ]
     },
     "execution_count": 58,
     "metadata": {},
     "output_type": "execute_result"
    }
   ],
   "source": [
    "df[\"owner\"].unique()  # number of owners of a car in data"
   ]
  },
  {
   "cell_type": "code",
   "execution_count": 46,
   "id": "3860817e",
   "metadata": {},
   "outputs": [
    {
     "data": {
      "text/plain": [
       "Maharashtra    1305\n",
       "Haryana         831\n",
       "Tamilnadu       715\n",
       "Karnataka       450\n",
       "Gujarat         404\n",
       "Rajasthan       341\n",
       "West Bengal     307\n",
       "Telangana       137\n",
       "Name: state, dtype: int64"
      ]
     },
     "execution_count": 46,
     "metadata": {},
     "output_type": "execute_result"
    }
   ],
   "source": [
    "df[\"state\"].value_counts() # state wise distributed cars"
   ]
  },
  {
   "cell_type": "code",
   "execution_count": null,
   "id": "29855bfe",
   "metadata": {},
   "outputs": [],
   "source": [
    "# from above data we come to know that maharashtra have heighest number of cars \n",
    "#where as telangana has lesser number of cars(statewise)"
   ]
  },
  {
   "cell_type": "code",
   "execution_count": 48,
   "id": "24f9c064",
   "metadata": {},
   "outputs": [
    {
     "data": {
      "text/plain": [
       "Gurgaon       831\n",
       "Chennai       702\n",
       "Mumbai        670\n",
       "Pune          635\n",
       "Bengaluru     450\n",
       "Ahmedabad     404\n",
       "Jaipur        341\n",
       "Kolkata       307\n",
       "Hyderabad     137\n",
       "Coimbatore     13\n",
       "Name: city, dtype: int64"
      ]
     },
     "execution_count": 48,
     "metadata": {},
     "output_type": "execute_result"
    }
   ],
   "source": [
    "df[\"city\"].value_counts() # city wise distributed cars"
   ]
  },
  {
   "cell_type": "code",
   "execution_count": null,
   "id": "73a312bc",
   "metadata": {},
   "outputs": [],
   "source": [
    "# from above data we get that gurgaon have heighest number of cars\n",
    "#where as coimbatore have low car count(city wise)"
   ]
  },
  {
   "cell_type": "code",
   "execution_count": 49,
   "id": "a7bf07c3",
   "metadata": {},
   "outputs": [
    {
     "data": {
      "text/plain": [
       "Maruti        2208\n",
       "Hyundai       1046\n",
       "Honda          291\n",
       "Ford           261\n",
       "Renault        148\n",
       "Toyota         106\n",
       "Tata            94\n",
       "Volkswagen      88\n",
       "Mahindra        67\n",
       "MG              29\n",
       "Jeep            28\n",
       "Datsun          22\n",
       "Skoda           22\n",
       "KIA             20\n",
       "Audi            14\n",
       "BMW             14\n",
       "Mercedes        13\n",
       "Nissan          11\n",
       "Fiat             2\n",
       "ISUZU            1\n",
       "HYUNDAI          1\n",
       "RENAULT          1\n",
       "Chevrolet        1\n",
       "Landrover        1\n",
       "Jaguar           1\n",
       "Name: cars_brand, dtype: int64"
      ]
     },
     "execution_count": 49,
     "metadata": {},
     "output_type": "execute_result"
    }
   ],
   "source": [
    "df[\"cars_brand\"].value_counts()\n",
    "#brand wise distributed cars"
   ]
  },
  {
   "cell_type": "code",
   "execution_count": null,
   "id": "a6757c72",
   "metadata": {},
   "outputs": [],
   "source": [
    "#from above data we can assume \"maruti\" is highly preferable brand in India than others."
   ]
  },
  {
   "cell_type": "code",
   "execution_count": 51,
   "id": "4effe919",
   "metadata": {},
   "outputs": [
    {
     "data": {
      "text/plain": [
       "Petrol    3289\n",
       "Diesel    1201\n",
       "Name: gasoliene_type, dtype: int64"
      ]
     },
     "execution_count": 51,
     "metadata": {},
     "output_type": "execute_result"
    }
   ],
   "source": [
    "df[\"gasoliene_type\"].value_counts()"
   ]
  },
  {
   "cell_type": "code",
   "execution_count": null,
   "id": "5d5c6f50",
   "metadata": {},
   "outputs": [],
   "source": [
    "#from above data we understand that petrol cars are more in numbers than diesel"
   ]
  },
  {
   "cell_type": "code",
   "execution_count": 59,
   "id": "70ef17f3",
   "metadata": {},
   "outputs": [
    {
     "data": {
      "text/plain": [
       "1    3569\n",
       "2     829\n",
       "3      84\n",
       "4       7\n",
       "8       1\n",
       "Name: owner, dtype: int64"
      ]
     },
     "execution_count": 59,
     "metadata": {},
     "output_type": "execute_result"
    }
   ],
   "source": [
    "df[\"owner\"].value_counts()"
   ]
  },
  {
   "cell_type": "code",
   "execution_count": null,
   "id": "d15a2454",
   "metadata": {},
   "outputs": [],
   "source": [
    "#there is only one vehicle having number of owners=8\n",
    "#large amount of cars having single owner"
   ]
  },
  {
   "cell_type": "code",
   "execution_count": 66,
   "id": "613f9da8",
   "metadata": {},
   "outputs": [
    {
     "data": {
      "text/html": [
       "<div>\n",
       "<style scoped>\n",
       "    .dataframe tbody tr th:only-of-type {\n",
       "        vertical-align: middle;\n",
       "    }\n",
       "\n",
       "    .dataframe tbody tr th {\n",
       "        vertical-align: top;\n",
       "    }\n",
       "\n",
       "    .dataframe thead th {\n",
       "        text-align: right;\n",
       "    }\n",
       "</style>\n",
       "<table border=\"1\" class=\"dataframe\">\n",
       "  <thead>\n",
       "    <tr style=\"text-align: right;\">\n",
       "      <th></th>\n",
       "      <th>Unnamed: 0</th>\n",
       "      <th>cars_name</th>\n",
       "      <th>cars_brand</th>\n",
       "      <th>model</th>\n",
       "      <th>model_year</th>\n",
       "      <th>car_type</th>\n",
       "      <th>kms</th>\n",
       "      <th>owner</th>\n",
       "      <th>gasoliene_type</th>\n",
       "      <th>price</th>\n",
       "      <th>emi_per_month</th>\n",
       "      <th>zero_downpayment</th>\n",
       "      <th>city</th>\n",
       "      <th>state</th>\n",
       "    </tr>\n",
       "  </thead>\n",
       "  <tbody>\n",
       "    <tr>\n",
       "      <th>1705</th>\n",
       "      <td>1705</td>\n",
       "      <td>Maruti Zen</td>\n",
       "      <td>Maruti</td>\n",
       "      <td>LX</td>\n",
       "      <td>1997</td>\n",
       "      <td>Manual</td>\n",
       "      <td>57258</td>\n",
       "      <td>8</td>\n",
       "      <td>Petrol</td>\n",
       "      <td>0</td>\n",
       "      <td>9</td>\n",
       "      <td>Zero downpayment</td>\n",
       "      <td>Coimbatore</td>\n",
       "      <td>Tamilnadu</td>\n",
       "    </tr>\n",
       "  </tbody>\n",
       "</table>\n",
       "</div>"
      ],
      "text/plain": [
       "      Unnamed: 0   cars_name cars_brand model  model_year car_type    kms  \\\n",
       "1705        1705  Maruti Zen     Maruti   LX         1997   Manual  57258   \n",
       "\n",
       "      owner gasoliene_type  price  emi_per_month  zero_downpayment  \\\n",
       "1705      8         Petrol      0              9  Zero downpayment   \n",
       "\n",
       "            city      state  \n",
       "1705  Coimbatore  Tamilnadu  "
      ]
     },
     "execution_count": 66,
     "metadata": {},
     "output_type": "execute_result"
    }
   ],
   "source": [
    "df[df[\"owner\"]==8] # all the detail of the vehicle having 8 no of owners"
   ]
  },
  {
   "cell_type": "code",
   "execution_count": 67,
   "id": "47c6a7b1",
   "metadata": {},
   "outputs": [
    {
     "data": {
      "text/html": [
       "<div>\n",
       "<style scoped>\n",
       "    .dataframe tbody tr th:only-of-type {\n",
       "        vertical-align: middle;\n",
       "    }\n",
       "\n",
       "    .dataframe tbody tr th {\n",
       "        vertical-align: top;\n",
       "    }\n",
       "\n",
       "    .dataframe thead th {\n",
       "        text-align: right;\n",
       "    }\n",
       "</style>\n",
       "<table border=\"1\" class=\"dataframe\">\n",
       "  <thead>\n",
       "    <tr style=\"text-align: right;\">\n",
       "      <th></th>\n",
       "      <th>Unnamed: 0</th>\n",
       "      <th>cars_name</th>\n",
       "      <th>cars_brand</th>\n",
       "      <th>model</th>\n",
       "      <th>model_year</th>\n",
       "      <th>car_type</th>\n",
       "      <th>kms</th>\n",
       "      <th>owner</th>\n",
       "      <th>gasoliene_type</th>\n",
       "      <th>price</th>\n",
       "      <th>emi_per_month</th>\n",
       "      <th>city</th>\n",
       "      <th>state</th>\n",
       "    </tr>\n",
       "  </thead>\n",
       "  <tbody>\n",
       "    <tr>\n",
       "      <th>0</th>\n",
       "      <td>0</td>\n",
       "      <td>Ford Ecosport</td>\n",
       "      <td>Ford</td>\n",
       "      <td>1.5 TITANIUMTDCI OPT</td>\n",
       "      <td>2013</td>\n",
       "      <td>Manual</td>\n",
       "      <td>179045</td>\n",
       "      <td>1</td>\n",
       "      <td>Diesel</td>\n",
       "      <td>507599</td>\n",
       "      <td>11291</td>\n",
       "      <td>Hyderabad</td>\n",
       "      <td>Telangana</td>\n",
       "    </tr>\n",
       "    <tr>\n",
       "      <th>1</th>\n",
       "      <td>1</td>\n",
       "      <td>Maruti Swift</td>\n",
       "      <td>Maruti</td>\n",
       "      <td>ZDI</td>\n",
       "      <td>2012</td>\n",
       "      <td>Manual</td>\n",
       "      <td>78819</td>\n",
       "      <td>2</td>\n",
       "      <td>Diesel</td>\n",
       "      <td>476699</td>\n",
       "      <td>10604</td>\n",
       "      <td>Hyderabad</td>\n",
       "      <td>Telangana</td>\n",
       "    </tr>\n",
       "    <tr>\n",
       "      <th>2</th>\n",
       "      <td>2</td>\n",
       "      <td>Honda Mobilio</td>\n",
       "      <td>Honda</td>\n",
       "      <td>1.5 V OPT I DTEC</td>\n",
       "      <td>2014</td>\n",
       "      <td>Manual</td>\n",
       "      <td>97289</td>\n",
       "      <td>2</td>\n",
       "      <td>Diesel</td>\n",
       "      <td>494799</td>\n",
       "      <td>11007</td>\n",
       "      <td>Hyderabad</td>\n",
       "      <td>Telangana</td>\n",
       "    </tr>\n",
       "    <tr>\n",
       "      <th>3</th>\n",
       "      <td>3</td>\n",
       "      <td>Maruti Wagon R 1.0</td>\n",
       "      <td>Maruti</td>\n",
       "      <td>VXI</td>\n",
       "      <td>2013</td>\n",
       "      <td>Manual</td>\n",
       "      <td>45693</td>\n",
       "      <td>2</td>\n",
       "      <td>Petrol</td>\n",
       "      <td>331999</td>\n",
       "      <td>7385</td>\n",
       "      <td>Hyderabad</td>\n",
       "      <td>Telangana</td>\n",
       "    </tr>\n",
       "    <tr>\n",
       "      <th>4</th>\n",
       "      <td>4</td>\n",
       "      <td>Hyundai i20 Active</td>\n",
       "      <td>Hyundai</td>\n",
       "      <td>1.2 S</td>\n",
       "      <td>2016</td>\n",
       "      <td>Manual</td>\n",
       "      <td>40586</td>\n",
       "      <td>1</td>\n",
       "      <td>Petrol</td>\n",
       "      <td>620299</td>\n",
       "      <td>13798</td>\n",
       "      <td>Hyderabad</td>\n",
       "      <td>Telangana</td>\n",
       "    </tr>\n",
       "    <tr>\n",
       "      <th>...</th>\n",
       "      <td>...</td>\n",
       "      <td>...</td>\n",
       "      <td>...</td>\n",
       "      <td>...</td>\n",
       "      <td>...</td>\n",
       "      <td>...</td>\n",
       "      <td>...</td>\n",
       "      <td>...</td>\n",
       "      <td>...</td>\n",
       "      <td>...</td>\n",
       "      <td>...</td>\n",
       "      <td>...</td>\n",
       "      <td>...</td>\n",
       "    </tr>\n",
       "    <tr>\n",
       "      <th>4485</th>\n",
       "      <td>4485</td>\n",
       "      <td>Maruti Swift</td>\n",
       "      <td>Maruti</td>\n",
       "      <td>VDI</td>\n",
       "      <td>2013</td>\n",
       "      <td>Manual</td>\n",
       "      <td>35212</td>\n",
       "      <td>1</td>\n",
       "      <td>Diesel</td>\n",
       "      <td>32799</td>\n",
       "      <td>627</td>\n",
       "      <td>Pune</td>\n",
       "      <td>Maharashtra</td>\n",
       "    </tr>\n",
       "    <tr>\n",
       "      <th>4486</th>\n",
       "      <td>4486</td>\n",
       "      <td>Maruti Eeco</td>\n",
       "      <td>Maruti</td>\n",
       "      <td>5 STR WITH AC PLUSHTR</td>\n",
       "      <td>2018</td>\n",
       "      <td>Manual</td>\n",
       "      <td>23573</td>\n",
       "      <td>1</td>\n",
       "      <td>Petrol</td>\n",
       "      <td>27399</td>\n",
       "      <td>507</td>\n",
       "      <td>Pune</td>\n",
       "      <td>Maharashtra</td>\n",
       "    </tr>\n",
       "    <tr>\n",
       "      <th>4487</th>\n",
       "      <td>4487</td>\n",
       "      <td>Maruti Alto 800</td>\n",
       "      <td>Maruti</td>\n",
       "      <td>LXI</td>\n",
       "      <td>2018</td>\n",
       "      <td>Manual</td>\n",
       "      <td>33004</td>\n",
       "      <td>1</td>\n",
       "      <td>Petrol</td>\n",
       "      <td>9699</td>\n",
       "      <td>889</td>\n",
       "      <td>Pune</td>\n",
       "      <td>Maharashtra</td>\n",
       "    </tr>\n",
       "    <tr>\n",
       "      <th>4488</th>\n",
       "      <td>4488</td>\n",
       "      <td>Maruti Alto K10</td>\n",
       "      <td>Maruti</td>\n",
       "      <td>LXI CNG (O)</td>\n",
       "      <td>2019</td>\n",
       "      <td>Manual</td>\n",
       "      <td>57875</td>\n",
       "      <td>1</td>\n",
       "      <td>Petrol</td>\n",
       "      <td>31299</td>\n",
       "      <td>594</td>\n",
       "      <td>Pune</td>\n",
       "      <td>Maharashtra</td>\n",
       "    </tr>\n",
       "    <tr>\n",
       "      <th>4489</th>\n",
       "      <td>4489</td>\n",
       "      <td>Maruti Alto 800</td>\n",
       "      <td>Maruti</td>\n",
       "      <td>VXI</td>\n",
       "      <td>2018</td>\n",
       "      <td>Manual</td>\n",
       "      <td>20369</td>\n",
       "      <td>1</td>\n",
       "      <td>Petrol</td>\n",
       "      <td>23199</td>\n",
       "      <td>189</td>\n",
       "      <td>Pune</td>\n",
       "      <td>Maharashtra</td>\n",
       "    </tr>\n",
       "  </tbody>\n",
       "</table>\n",
       "<p>4490 rows × 13 columns</p>\n",
       "</div>"
      ],
      "text/plain": [
       "      Unnamed: 0           cars_name cars_brand                   model  \\\n",
       "0              0       Ford Ecosport       Ford   1.5 TITANIUMTDCI OPT    \n",
       "1              1        Maruti Swift     Maruti                    ZDI    \n",
       "2              2       Honda Mobilio      Honda       1.5 V OPT I DTEC    \n",
       "3              3  Maruti Wagon R 1.0     Maruti                    VXI    \n",
       "4              4  Hyundai i20 Active    Hyundai                  1.2 S    \n",
       "...          ...                 ...        ...                     ...   \n",
       "4485        4485        Maruti Swift     Maruti                    VDI    \n",
       "4486        4486         Maruti Eeco     Maruti  5 STR WITH AC PLUSHTR    \n",
       "4487        4487     Maruti Alto 800     Maruti                    LXI    \n",
       "4488        4488     Maruti Alto K10     Maruti            LXI CNG (O)    \n",
       "4489        4489     Maruti Alto 800     Maruti                    VXI    \n",
       "\n",
       "      model_year car_type     kms  owner gasoliene_type   price  \\\n",
       "0           2013   Manual  179045      1         Diesel  507599   \n",
       "1           2012   Manual   78819      2         Diesel  476699   \n",
       "2           2014   Manual   97289      2         Diesel  494799   \n",
       "3           2013   Manual   45693      2         Petrol  331999   \n",
       "4           2016   Manual   40586      1         Petrol  620299   \n",
       "...          ...      ...     ...    ...            ...     ...   \n",
       "4485        2013   Manual   35212      1         Diesel   32799   \n",
       "4486        2018   Manual   23573      1         Petrol   27399   \n",
       "4487        2018   Manual   33004      1         Petrol    9699   \n",
       "4488        2019   Manual   57875      1         Petrol   31299   \n",
       "4489        2018   Manual   20369      1         Petrol   23199   \n",
       "\n",
       "      emi_per_month       city        state  \n",
       "0             11291  Hyderabad    Telangana  \n",
       "1             10604  Hyderabad    Telangana  \n",
       "2             11007  Hyderabad    Telangana  \n",
       "3              7385  Hyderabad    Telangana  \n",
       "4             13798  Hyderabad    Telangana  \n",
       "...             ...        ...          ...  \n",
       "4485            627       Pune  Maharashtra  \n",
       "4486            507       Pune  Maharashtra  \n",
       "4487            889       Pune  Maharashtra  \n",
       "4488            594       Pune  Maharashtra  \n",
       "4489            189       Pune  Maharashtra  \n",
       "\n",
       "[4490 rows x 13 columns]"
      ]
     },
     "execution_count": 67,
     "metadata": {},
     "output_type": "execute_result"
    }
   ],
   "source": [
    "df.drop([\"zero_downpayment\"],axis=1,inplace=True)\n",
    "df # \"zero_downpayment deleted\""
   ]
  },
  {
   "cell_type": "code",
   "execution_count": 77,
   "id": "94bd07f9",
   "metadata": {},
   "outputs": [],
   "source": [
    "df.drop([\"Unnamed: 0\"],axis=1,inplace=True)"
   ]
  },
  {
   "cell_type": "code",
   "execution_count": 74,
   "id": "dce8c813",
   "metadata": {},
   "outputs": [
    {
     "data": {
      "text/html": [
       "<div>\n",
       "<style scoped>\n",
       "    .dataframe tbody tr th:only-of-type {\n",
       "        vertical-align: middle;\n",
       "    }\n",
       "\n",
       "    .dataframe tbody tr th {\n",
       "        vertical-align: top;\n",
       "    }\n",
       "\n",
       "    .dataframe thead th {\n",
       "        text-align: right;\n",
       "    }\n",
       "</style>\n",
       "<table border=\"1\" class=\"dataframe\">\n",
       "  <thead>\n",
       "    <tr style=\"text-align: right;\">\n",
       "      <th></th>\n",
       "      <th>Unnamed: 0</th>\n",
       "      <th>cars_name</th>\n",
       "      <th>cars_brand</th>\n",
       "      <th>model</th>\n",
       "      <th>model_year</th>\n",
       "      <th>car_type</th>\n",
       "      <th>kms</th>\n",
       "      <th>owner</th>\n",
       "      <th>gasoliene_type</th>\n",
       "      <th>price</th>\n",
       "      <th>emi_per_month</th>\n",
       "      <th>city</th>\n",
       "      <th>state</th>\n",
       "    </tr>\n",
       "  </thead>\n",
       "  <tbody>\n",
       "    <tr>\n",
       "      <th>5</th>\n",
       "      <td>5</td>\n",
       "      <td>Maruti Alto K10</td>\n",
       "      <td>Maruti</td>\n",
       "      <td>VXI</td>\n",
       "      <td>2015</td>\n",
       "      <td>Manual</td>\n",
       "      <td>234695</td>\n",
       "      <td>1</td>\n",
       "      <td>Petrol</td>\n",
       "      <td>273299</td>\n",
       "      <td>6079</td>\n",
       "      <td>Hyderabad</td>\n",
       "      <td>Telangana</td>\n",
       "    </tr>\n",
       "    <tr>\n",
       "      <th>6</th>\n",
       "      <td>6</td>\n",
       "      <td>Skoda Octavia</td>\n",
       "      <td>Skoda</td>\n",
       "      <td>Style 1.4 TSI MT</td>\n",
       "      <td>2017</td>\n",
       "      <td>Manual</td>\n",
       "      <td>47264</td>\n",
       "      <td>1</td>\n",
       "      <td>Petrol</td>\n",
       "      <td>1292899</td>\n",
       "      <td>28760</td>\n",
       "      <td>Hyderabad</td>\n",
       "      <td>Telangana</td>\n",
       "    </tr>\n",
       "    <tr>\n",
       "      <th>7</th>\n",
       "      <td>7</td>\n",
       "      <td>Maruti Vitara Brezza</td>\n",
       "      <td>Maruti</td>\n",
       "      <td>VDI</td>\n",
       "      <td>2016</td>\n",
       "      <td>Manual</td>\n",
       "      <td>153631</td>\n",
       "      <td>1</td>\n",
       "      <td>Diesel</td>\n",
       "      <td>678999</td>\n",
       "      <td>15104</td>\n",
       "      <td>Hyderabad</td>\n",
       "      <td>Telangana</td>\n",
       "    </tr>\n",
       "    <tr>\n",
       "      <th>8</th>\n",
       "      <td>8</td>\n",
       "      <td>Honda City</td>\n",
       "      <td>Honda</td>\n",
       "      <td>V AT</td>\n",
       "      <td>2010</td>\n",
       "      <td>Automatic</td>\n",
       "      <td>152381</td>\n",
       "      <td>1</td>\n",
       "      <td>Petrol</td>\n",
       "      <td>449699</td>\n",
       "      <td>10003</td>\n",
       "      <td>Hyderabad</td>\n",
       "      <td>Telangana</td>\n",
       "    </tr>\n",
       "    <tr>\n",
       "      <th>9</th>\n",
       "      <td>9</td>\n",
       "      <td>Hyundai Verna</td>\n",
       "      <td>Hyundai</td>\n",
       "      <td>1.6 CRDI SX + AT</td>\n",
       "      <td>2018</td>\n",
       "      <td>Automatic</td>\n",
       "      <td>33367</td>\n",
       "      <td>1</td>\n",
       "      <td>Diesel</td>\n",
       "      <td>1069899</td>\n",
       "      <td>23799</td>\n",
       "      <td>Hyderabad</td>\n",
       "      <td>Telangana</td>\n",
       "    </tr>\n",
       "    <tr>\n",
       "      <th>...</th>\n",
       "      <td>...</td>\n",
       "      <td>...</td>\n",
       "      <td>...</td>\n",
       "      <td>...</td>\n",
       "      <td>...</td>\n",
       "      <td>...</td>\n",
       "      <td>...</td>\n",
       "      <td>...</td>\n",
       "      <td>...</td>\n",
       "      <td>...</td>\n",
       "      <td>...</td>\n",
       "      <td>...</td>\n",
       "      <td>...</td>\n",
       "    </tr>\n",
       "    <tr>\n",
       "      <th>4485</th>\n",
       "      <td>4485</td>\n",
       "      <td>Maruti Swift</td>\n",
       "      <td>Maruti</td>\n",
       "      <td>VDI</td>\n",
       "      <td>2013</td>\n",
       "      <td>Manual</td>\n",
       "      <td>35212</td>\n",
       "      <td>1</td>\n",
       "      <td>Diesel</td>\n",
       "      <td>32799</td>\n",
       "      <td>627</td>\n",
       "      <td>Pune</td>\n",
       "      <td>Maharashtra</td>\n",
       "    </tr>\n",
       "    <tr>\n",
       "      <th>4486</th>\n",
       "      <td>4486</td>\n",
       "      <td>Maruti Eeco</td>\n",
       "      <td>Maruti</td>\n",
       "      <td>5 STR WITH AC PLUSHTR</td>\n",
       "      <td>2018</td>\n",
       "      <td>Manual</td>\n",
       "      <td>23573</td>\n",
       "      <td>1</td>\n",
       "      <td>Petrol</td>\n",
       "      <td>27399</td>\n",
       "      <td>507</td>\n",
       "      <td>Pune</td>\n",
       "      <td>Maharashtra</td>\n",
       "    </tr>\n",
       "    <tr>\n",
       "      <th>4487</th>\n",
       "      <td>4487</td>\n",
       "      <td>Maruti Alto 800</td>\n",
       "      <td>Maruti</td>\n",
       "      <td>LXI</td>\n",
       "      <td>2018</td>\n",
       "      <td>Manual</td>\n",
       "      <td>33004</td>\n",
       "      <td>1</td>\n",
       "      <td>Petrol</td>\n",
       "      <td>9699</td>\n",
       "      <td>889</td>\n",
       "      <td>Pune</td>\n",
       "      <td>Maharashtra</td>\n",
       "    </tr>\n",
       "    <tr>\n",
       "      <th>4488</th>\n",
       "      <td>4488</td>\n",
       "      <td>Maruti Alto K10</td>\n",
       "      <td>Maruti</td>\n",
       "      <td>LXI CNG (O)</td>\n",
       "      <td>2019</td>\n",
       "      <td>Manual</td>\n",
       "      <td>57875</td>\n",
       "      <td>1</td>\n",
       "      <td>Petrol</td>\n",
       "      <td>31299</td>\n",
       "      <td>594</td>\n",
       "      <td>Pune</td>\n",
       "      <td>Maharashtra</td>\n",
       "    </tr>\n",
       "    <tr>\n",
       "      <th>4489</th>\n",
       "      <td>4489</td>\n",
       "      <td>Maruti Alto 800</td>\n",
       "      <td>Maruti</td>\n",
       "      <td>VXI</td>\n",
       "      <td>2018</td>\n",
       "      <td>Manual</td>\n",
       "      <td>20369</td>\n",
       "      <td>1</td>\n",
       "      <td>Petrol</td>\n",
       "      <td>23199</td>\n",
       "      <td>189</td>\n",
       "      <td>Pune</td>\n",
       "      <td>Maharashtra</td>\n",
       "    </tr>\n",
       "  </tbody>\n",
       "</table>\n",
       "<p>4485 rows × 13 columns</p>\n",
       "</div>"
      ],
      "text/plain": [
       "      Unnamed: 0             cars_name cars_brand                   model  \\\n",
       "5              5       Maruti Alto K10     Maruti                    VXI    \n",
       "6              6         Skoda Octavia      Skoda       Style 1.4 TSI MT    \n",
       "7              7  Maruti Vitara Brezza     Maruti                    VDI    \n",
       "8              8            Honda City      Honda                   V AT    \n",
       "9              9         Hyundai Verna    Hyundai       1.6 CRDI SX + AT    \n",
       "...          ...                   ...        ...                     ...   \n",
       "4485        4485          Maruti Swift     Maruti                    VDI    \n",
       "4486        4486           Maruti Eeco     Maruti  5 STR WITH AC PLUSHTR    \n",
       "4487        4487       Maruti Alto 800     Maruti                    LXI    \n",
       "4488        4488       Maruti Alto K10     Maruti            LXI CNG (O)    \n",
       "4489        4489       Maruti Alto 800     Maruti                    VXI    \n",
       "\n",
       "      model_year   car_type     kms  owner gasoliene_type    price  \\\n",
       "5           2015     Manual  234695      1         Petrol   273299   \n",
       "6           2017     Manual   47264      1         Petrol  1292899   \n",
       "7           2016     Manual  153631      1         Diesel   678999   \n",
       "8           2010  Automatic  152381      1         Petrol   449699   \n",
       "9           2018  Automatic   33367      1         Diesel  1069899   \n",
       "...          ...        ...     ...    ...            ...      ...   \n",
       "4485        2013     Manual   35212      1         Diesel    32799   \n",
       "4486        2018     Manual   23573      1         Petrol    27399   \n",
       "4487        2018     Manual   33004      1         Petrol     9699   \n",
       "4488        2019     Manual   57875      1         Petrol    31299   \n",
       "4489        2018     Manual   20369      1         Petrol    23199   \n",
       "\n",
       "      emi_per_month       city        state  \n",
       "5              6079  Hyderabad    Telangana  \n",
       "6             28760  Hyderabad    Telangana  \n",
       "7             15104  Hyderabad    Telangana  \n",
       "8             10003  Hyderabad    Telangana  \n",
       "9             23799  Hyderabad    Telangana  \n",
       "...             ...        ...          ...  \n",
       "4485            627       Pune  Maharashtra  \n",
       "4486            507       Pune  Maharashtra  \n",
       "4487            889       Pune  Maharashtra  \n",
       "4488            594       Pune  Maharashtra  \n",
       "4489            189       Pune  Maharashtra  \n",
       "\n",
       "[4485 rows x 13 columns]"
      ]
     },
     "execution_count": 74,
     "metadata": {},
     "output_type": "execute_result"
    }
   ],
   "source": [
    "df.drop([1,2,3,4],axis=0,inplace=True) #deleting some rows from the record\n",
    "df"
   ]
  },
  {
   "cell_type": "code",
   "execution_count": 78,
   "id": "6048017e",
   "metadata": {},
   "outputs": [
    {
     "data": {
      "text/html": [
       "<div>\n",
       "<style scoped>\n",
       "    .dataframe tbody tr th:only-of-type {\n",
       "        vertical-align: middle;\n",
       "    }\n",
       "\n",
       "    .dataframe tbody tr th {\n",
       "        vertical-align: top;\n",
       "    }\n",
       "\n",
       "    .dataframe thead th {\n",
       "        text-align: right;\n",
       "    }\n",
       "</style>\n",
       "<table border=\"1\" class=\"dataframe\">\n",
       "  <thead>\n",
       "    <tr style=\"text-align: right;\">\n",
       "      <th></th>\n",
       "      <th>cars_name</th>\n",
       "      <th>cars_brand</th>\n",
       "      <th>model</th>\n",
       "      <th>model_year</th>\n",
       "      <th>car_type</th>\n",
       "      <th>kms</th>\n",
       "      <th>owner</th>\n",
       "      <th>gasoliene_type</th>\n",
       "      <th>price</th>\n",
       "      <th>emi_per_month</th>\n",
       "      <th>city</th>\n",
       "      <th>state</th>\n",
       "    </tr>\n",
       "  </thead>\n",
       "  <tbody>\n",
       "    <tr>\n",
       "      <th>0</th>\n",
       "      <td>Maruti Alto K10</td>\n",
       "      <td>Maruti</td>\n",
       "      <td>VXI</td>\n",
       "      <td>2015</td>\n",
       "      <td>Manual</td>\n",
       "      <td>234695</td>\n",
       "      <td>1</td>\n",
       "      <td>Petrol</td>\n",
       "      <td>273299</td>\n",
       "      <td>6079</td>\n",
       "      <td>Hyderabad</td>\n",
       "      <td>Telangana</td>\n",
       "    </tr>\n",
       "    <tr>\n",
       "      <th>1</th>\n",
       "      <td>Skoda Octavia</td>\n",
       "      <td>Skoda</td>\n",
       "      <td>Style 1.4 TSI MT</td>\n",
       "      <td>2017</td>\n",
       "      <td>Manual</td>\n",
       "      <td>47264</td>\n",
       "      <td>1</td>\n",
       "      <td>Petrol</td>\n",
       "      <td>1292899</td>\n",
       "      <td>28760</td>\n",
       "      <td>Hyderabad</td>\n",
       "      <td>Telangana</td>\n",
       "    </tr>\n",
       "    <tr>\n",
       "      <th>2</th>\n",
       "      <td>Maruti Vitara Brezza</td>\n",
       "      <td>Maruti</td>\n",
       "      <td>VDI</td>\n",
       "      <td>2016</td>\n",
       "      <td>Manual</td>\n",
       "      <td>153631</td>\n",
       "      <td>1</td>\n",
       "      <td>Diesel</td>\n",
       "      <td>678999</td>\n",
       "      <td>15104</td>\n",
       "      <td>Hyderabad</td>\n",
       "      <td>Telangana</td>\n",
       "    </tr>\n",
       "    <tr>\n",
       "      <th>3</th>\n",
       "      <td>Honda City</td>\n",
       "      <td>Honda</td>\n",
       "      <td>V AT</td>\n",
       "      <td>2010</td>\n",
       "      <td>Automatic</td>\n",
       "      <td>152381</td>\n",
       "      <td>1</td>\n",
       "      <td>Petrol</td>\n",
       "      <td>449699</td>\n",
       "      <td>10003</td>\n",
       "      <td>Hyderabad</td>\n",
       "      <td>Telangana</td>\n",
       "    </tr>\n",
       "    <tr>\n",
       "      <th>4</th>\n",
       "      <td>Hyundai Verna</td>\n",
       "      <td>Hyundai</td>\n",
       "      <td>1.6 CRDI SX + AT</td>\n",
       "      <td>2018</td>\n",
       "      <td>Automatic</td>\n",
       "      <td>33367</td>\n",
       "      <td>1</td>\n",
       "      <td>Diesel</td>\n",
       "      <td>1069899</td>\n",
       "      <td>23799</td>\n",
       "      <td>Hyderabad</td>\n",
       "      <td>Telangana</td>\n",
       "    </tr>\n",
       "    <tr>\n",
       "      <th>...</th>\n",
       "      <td>...</td>\n",
       "      <td>...</td>\n",
       "      <td>...</td>\n",
       "      <td>...</td>\n",
       "      <td>...</td>\n",
       "      <td>...</td>\n",
       "      <td>...</td>\n",
       "      <td>...</td>\n",
       "      <td>...</td>\n",
       "      <td>...</td>\n",
       "      <td>...</td>\n",
       "      <td>...</td>\n",
       "    </tr>\n",
       "    <tr>\n",
       "      <th>4480</th>\n",
       "      <td>Maruti Swift</td>\n",
       "      <td>Maruti</td>\n",
       "      <td>VDI</td>\n",
       "      <td>2013</td>\n",
       "      <td>Manual</td>\n",
       "      <td>35212</td>\n",
       "      <td>1</td>\n",
       "      <td>Diesel</td>\n",
       "      <td>32799</td>\n",
       "      <td>627</td>\n",
       "      <td>Pune</td>\n",
       "      <td>Maharashtra</td>\n",
       "    </tr>\n",
       "    <tr>\n",
       "      <th>4481</th>\n",
       "      <td>Maruti Eeco</td>\n",
       "      <td>Maruti</td>\n",
       "      <td>5 STR WITH AC PLUSHTR</td>\n",
       "      <td>2018</td>\n",
       "      <td>Manual</td>\n",
       "      <td>23573</td>\n",
       "      <td>1</td>\n",
       "      <td>Petrol</td>\n",
       "      <td>27399</td>\n",
       "      <td>507</td>\n",
       "      <td>Pune</td>\n",
       "      <td>Maharashtra</td>\n",
       "    </tr>\n",
       "    <tr>\n",
       "      <th>4482</th>\n",
       "      <td>Maruti Alto 800</td>\n",
       "      <td>Maruti</td>\n",
       "      <td>LXI</td>\n",
       "      <td>2018</td>\n",
       "      <td>Manual</td>\n",
       "      <td>33004</td>\n",
       "      <td>1</td>\n",
       "      <td>Petrol</td>\n",
       "      <td>9699</td>\n",
       "      <td>889</td>\n",
       "      <td>Pune</td>\n",
       "      <td>Maharashtra</td>\n",
       "    </tr>\n",
       "    <tr>\n",
       "      <th>4483</th>\n",
       "      <td>Maruti Alto K10</td>\n",
       "      <td>Maruti</td>\n",
       "      <td>LXI CNG (O)</td>\n",
       "      <td>2019</td>\n",
       "      <td>Manual</td>\n",
       "      <td>57875</td>\n",
       "      <td>1</td>\n",
       "      <td>Petrol</td>\n",
       "      <td>31299</td>\n",
       "      <td>594</td>\n",
       "      <td>Pune</td>\n",
       "      <td>Maharashtra</td>\n",
       "    </tr>\n",
       "    <tr>\n",
       "      <th>4484</th>\n",
       "      <td>Maruti Alto 800</td>\n",
       "      <td>Maruti</td>\n",
       "      <td>VXI</td>\n",
       "      <td>2018</td>\n",
       "      <td>Manual</td>\n",
       "      <td>20369</td>\n",
       "      <td>1</td>\n",
       "      <td>Petrol</td>\n",
       "      <td>23199</td>\n",
       "      <td>189</td>\n",
       "      <td>Pune</td>\n",
       "      <td>Maharashtra</td>\n",
       "    </tr>\n",
       "  </tbody>\n",
       "</table>\n",
       "<p>4485 rows × 12 columns</p>\n",
       "</div>"
      ],
      "text/plain": [
       "                 cars_name cars_brand                   model  model_year  \\\n",
       "0          Maruti Alto K10     Maruti                    VXI         2015   \n",
       "1            Skoda Octavia      Skoda       Style 1.4 TSI MT         2017   \n",
       "2     Maruti Vitara Brezza     Maruti                    VDI         2016   \n",
       "3               Honda City      Honda                   V AT         2010   \n",
       "4            Hyundai Verna    Hyundai       1.6 CRDI SX + AT         2018   \n",
       "...                    ...        ...                     ...         ...   \n",
       "4480          Maruti Swift     Maruti                    VDI         2013   \n",
       "4481           Maruti Eeco     Maruti  5 STR WITH AC PLUSHTR         2018   \n",
       "4482       Maruti Alto 800     Maruti                    LXI         2018   \n",
       "4483       Maruti Alto K10     Maruti            LXI CNG (O)         2019   \n",
       "4484       Maruti Alto 800     Maruti                    VXI         2018   \n",
       "\n",
       "       car_type     kms  owner gasoliene_type    price  emi_per_month  \\\n",
       "0        Manual  234695      1         Petrol   273299           6079   \n",
       "1        Manual   47264      1         Petrol  1292899          28760   \n",
       "2        Manual  153631      1         Diesel   678999          15104   \n",
       "3     Automatic  152381      1         Petrol   449699          10003   \n",
       "4     Automatic   33367      1         Diesel  1069899          23799   \n",
       "...         ...     ...    ...            ...      ...            ...   \n",
       "4480     Manual   35212      1         Diesel    32799            627   \n",
       "4481     Manual   23573      1         Petrol    27399            507   \n",
       "4482     Manual   33004      1         Petrol     9699            889   \n",
       "4483     Manual   57875      1         Petrol    31299            594   \n",
       "4484     Manual   20369      1         Petrol    23199            189   \n",
       "\n",
       "           city        state  \n",
       "0     Hyderabad    Telangana  \n",
       "1     Hyderabad    Telangana  \n",
       "2     Hyderabad    Telangana  \n",
       "3     Hyderabad    Telangana  \n",
       "4     Hyderabad    Telangana  \n",
       "...         ...          ...  \n",
       "4480       Pune  Maharashtra  \n",
       "4481       Pune  Maharashtra  \n",
       "4482       Pune  Maharashtra  \n",
       "4483       Pune  Maharashtra  \n",
       "4484       Pune  Maharashtra  \n",
       "\n",
       "[4485 rows x 12 columns]"
      ]
     },
     "execution_count": 78,
     "metadata": {},
     "output_type": "execute_result"
    }
   ],
   "source": [
    "df.reset_index(drop=True,inplace=True) # reseting index after deleting some rows\n",
    "df"
   ]
  },
  {
   "cell_type": "code",
   "execution_count": 90,
   "id": "a162f6b4",
   "metadata": {},
   "outputs": [
    {
     "data": {
      "text/plain": [
       "<AxesSubplot:>"
      ]
     },
     "execution_count": 90,
     "metadata": {},
     "output_type": "execute_result"
    },
    {
     "data": {
      "image/png": "[encoded data removed]",
      "text/plain": [
       "<Figure size 640x480 with 1 Axes>"
      ]
     },
     "metadata": {},
     "output_type": "display_data"
    }
   ],
   "source": [
    "df[\"model_year\"].hist(bins=7)"
   ]
  },
  {
   "cell_type": "code",
   "execution_count": null,
   "id": "97a0c208",
   "metadata": {},
   "outputs": [],
   "source": [
    "# from above chart we can assume that, there is more number of cars from year approx \"2014 to 2018\" for sale"
   ]
  },
  {
   "cell_type": "code",
   "execution_count": 98,
   "id": "77b435ea",
   "metadata": {},
   "outputs": [
    {
     "data": {
      "text/plain": [
       "Text(0.5, 1.0, 'Different car brands with there count')"
      ]
     },
     "execution_count": 98,
     "metadata": {},
     "output_type": "execute_result"
    },
    {
     "data": {
      "image/png": "[encoded data removed]",
      "text/plain": [
       "<Figure size 2000x500 with 1 Axes>"
      ]
     },
     "metadata": {},
     "output_type": "display_data"
    }
   ],
   "source": [
    "plt.figure(figsize=(20,5))\n",
    "df.cars_brand.value_counts().plot.bar()\n",
    "plt.title('Different car brands with there count')"
   ]
  },
  {
   "cell_type": "code",
   "execution_count": null,
   "id": "7e2efbd5",
   "metadata": {},
   "outputs": [],
   "source": [
    "#In data frame there are 24 unique brands of cars\n",
    "#The most listed car brand in cars24 is Maruti with more than 2000 cars\n",
    "#The low listed car brands in cars24 are shown in above plot which are less than 30\n"
   ]
  },
  {
   "cell_type": "code",
   "execution_count": 99,
   "id": "ba6c3b5b",
   "metadata": {},
   "outputs": [
    {
     "data": {
      "text/plain": [
       "Text(0.5, 1.0, 'Citywise listed count for Maruti Brand')"
      ]
     },
     "execution_count": 99,
     "metadata": {},
     "output_type": "execute_result"
    },
    {
     "data": {
      "image/png": "[encoded data removed]",
      "text/plain": [
       "<Figure size 640x480 with 1 Axes>"
      ]
     },
     "metadata": {},
     "output_type": "display_data"
    }
   ],
   "source": [
    "df[df['cars_brand'] == 'Maruti']['city'].value_counts().plot.bar()\n",
    "plt.title('Citywise listed count for Maruti Brand') # "
   ]
  },
  {
   "cell_type": "code",
   "execution_count": null,
   "id": "d3a8ed3b",
   "metadata": {},
   "outputs": [],
   "source": [
    "#from above data we get that the more number of Maruti cars are listed in Gurgaon city"
   ]
  },
  {
   "cell_type": "code",
   "execution_count": 103,
   "id": "de0aa1ef",
   "metadata": {},
   "outputs": [
    {
     "data": {
      "text/plain": [
       "Text(0.5, 1.0, 'only in Maharashtra')"
      ]
     },
     "execution_count": 103,
     "metadata": {},
     "output_type": "execute_result"
    },
    {
     "data": {
      "image/png": "[encoded data removed]",
      "text/plain": [
       "<Figure size 640x480 with 1 Axes>"
      ]
     },
     "metadata": {},
     "output_type": "display_data"
    }
   ],
   "source": [
    "df[df['state'] == 'Maharashtra']['city'].value_counts().plot.bar(color = ['yellow','orange'])\n",
    "plt.title('only in Maharashtra')"
   ]
  },
  {
   "cell_type": "code",
   "execution_count": null,
   "id": "6a723c10",
   "metadata": {},
   "outputs": [],
   "source": [
    "#in maharashtra there are two cities where cars24 deals in cars in which Mumbai has more cars than Pune"
   ]
  },
  {
   "cell_type": "code",
   "execution_count": 106,
   "id": "ab016550",
   "metadata": {},
   "outputs": [
    {
     "data": {
      "image/png": "[encoded data removed]",
      "text/plain": [
       "<Figure size 600x600 with 1 Axes>"
      ]
     },
     "metadata": {},
     "output_type": "display_data"
    }
   ],
   "source": [
    "plt.figure(figsize=(6,6))\n",
    "sns.distplot(df['kms'])\n",
    "plt.title('Kms Distribution')\n",
    "plt.show()"
   ]
  },
  {
   "cell_type": "code",
   "execution_count": null,
   "id": "6e524e36",
   "metadata": {},
   "outputs": [],
   "source": [
    "# from observation we can assume that cars24 has most cars driven around 0-100000kms"
   ]
  },
  {
   "cell_type": "code",
   "execution_count": 107,
   "id": "b1f48b68",
   "metadata": {},
   "outputs": [
    {
     "data": {
      "text/plain": [
       "Text(0.5, 1.0, 'Price Distribution')"
      ]
     },
     "execution_count": 107,
     "metadata": {},
     "output_type": "execute_result"
    },
    {
     "data": {
      "image/png": "[encoded data removed]",
      "text/plain": [
       "<Figure size 500x500 with 1 Axes>"
      ]
     },
     "metadata": {},
     "output_type": "display_data"
    }
   ],
   "source": [
    "sns.catplot(y = 'price',data = df,kind = 'box')\n",
    "plt.title('Price Distribution')"
   ]
  },
  {
   "cell_type": "code",
   "execution_count": null,
   "id": "ad85e5bb",
   "metadata": {},
   "outputs": [],
   "source": [
    "#from above picture we get that most car listed on cars 24 are between 1 lac to 5 lacs.\n",
    "#also we can guess the outlier"
   ]
  },
  {
   "cell_type": "code",
   "execution_count": 116,
   "id": "7114035d",
   "metadata": {},
   "outputs": [
    {
     "data": {
      "image/png": "[encoded data removed]",
      "text/plain": [
       "<Figure size 800x800 with 4 Axes>"
      ]
     },
     "metadata": {},
     "output_type": "display_data"
    }
   ],
   "source": [
    "plt.figure(1)\n",
    "plt.subplot(2,2,1)\n",
    "df[\"owner\"].value_counts().plot(figsize=(6,6),kind=\"bar\",color=\"red\")\n",
    "plt.title(\"owner\")\n",
    "plt.xlabel(\"no. of owner\")\n",
    "plt.ylabel(\"no. of cars\")\n",
    "\n",
    "\n",
    "plt.subplot(2,2,2)\n",
    "df[\"gasoliene_type\"].value_counts().plot(figsize=(6,6),kind=\"bar\",color=\"yellow\")\n",
    "plt.title(\"gasoliene_type\")\n",
    "plt.xlabel(\"type of gasoliene\")\n",
    "plt.ylabel(\"no. of cars\")\n",
    "\n",
    "plt.subplot(2,2,3)\n",
    "df[\"model_year\"].value_counts().plot(figsize=(8,8),kind=\"bar\",color=\"green\")\n",
    "plt.title(\"model_year\")\n",
    "plt.xlabel(\"year\")\n",
    "plt.ylabel(\"no. of cars\")\n",
    "\n",
    "plt.subplot(2,2,4)\n",
    "df[\"car_type\"].value_counts().plot(figsize=(8,8),kind=\"bar\",color=\"green\")\n",
    "plt.title(\"car_type\")\n",
    "plt.xlabel(\"transmission\")\n",
    "plt.ylabel(\"no.of cars\")\n",
    "\n",
    "\n",
    "plt.tight_layout()\n",
    "plt.show()"
   ]
  },
  {
   "cell_type": "code",
   "execution_count": null,
   "id": "d381d3f2",
   "metadata": {},
   "outputs": [],
   "source": [
    "# from above charts we can observe that\n",
    "#1. 1st owner vehicles are more listed\n",
    "#2. more petrol vehicles available than diesel\n",
    "#3. year wise distribution of cars\n",
    "#4. manual cars are more in numbers than automatic\n"
   ]
  },
  {
   "cell_type": "code",
   "execution_count": 124,
   "id": "9926ff18",
   "metadata": {},
   "outputs": [
    {
     "data": {
      "text/plain": [
       "<AxesSubplot:>"
      ]
     },
     "execution_count": 124,
     "metadata": {},
     "output_type": "execute_result"
    },
    {
     "data": {
      "image/png": "[encoded data removed]",
      "text/plain": [
       "<Figure size 640x480 with 2 Axes>"
      ]
     },
     "metadata": {},
     "output_type": "display_data"
    }
   ],
   "source": [
    "df_corr = df.corr()\n",
    "sns.heatmap(df_corr,annot=True)"
   ]
  },
  {
   "cell_type": "code",
   "execution_count": null,
   "id": "fe094f06",
   "metadata": {},
   "outputs": [],
   "source": [
    "#The most of data is poor negative and poor positive correlation\n",
    "#There is 1 for price and emi_per_month"
   ]
  },
  {
   "cell_type": "code",
   "execution_count": 127,
   "id": "47134621",
   "metadata": {},
   "outputs": [
    {
     "data": {
      "text/plain": [
       "Text(0.5, 1.0, 'best varient to buy of maruti')"
      ]
     },
     "execution_count": 127,
     "metadata": {},
     "output_type": "execute_result"
    },
    {
     "data": {
      "image/png": "[encoded data removed]",
      "text/plain": [
       "<Figure size 1500x500 with 1 Axes>"
      ]
     },
     "metadata": {},
     "output_type": "display_data"
    }
   ],
   "source": [
    "plt.figure(figsize=(15,5))\n",
    "df[(df['price'] <= 500000) & (df['model_year'] >= 2018) & (df['kms'] <= 50000) & (df['cars_brand'] == 'Maruti')]['model'].value_counts().plot.bar(color = 'green')\n",
    "plt.title('best varient to buy of maruti')"
   ]
  },
  {
   "cell_type": "code",
   "execution_count": null,
   "id": "bf6a84e1",
   "metadata": {},
   "outputs": [],
   "source": [
    "# VXI is best varient of maruti to buy with reasonable pricing and condtion\n",
    "#with the help of above formula we can find suitable car with other models with our own condtitions"
   ]
  },
  {
   "cell_type": "code",
   "execution_count": null,
   "id": "a94f5c9c",
   "metadata": {},
   "outputs": [],
   "source": []
  },
  {
   "cell_type": "code",
   "execution_count": null,
   "id": "ca8a3d57",
   "metadata": {},
   "outputs": [],
   "source": []
  },
  {
   "cell_type": "code",
   "execution_count": null,
   "id": "e6a98ffd",
   "metadata": {},
   "outputs": [],
   "source": []
  },
  {
   "cell_type": "code",
   "execution_count": null,
   "id": "3b3367fc",
   "metadata": {},
   "outputs": [],
   "source": []
  },
  {
   "cell_type": "code",
   "execution_count": null,
   "id": "f9e39278",
   "metadata": {},
   "outputs": [],
   "source": []
  },
  {
   "cell_type": "code",
   "execution_count": null,
   "id": "f68dc7a8",
   "metadata": {},
   "outputs": [],
   "source": []
  },
  {
   "cell_type": "code",
   "execution_count": null,
   "id": "ccf670d4",
   "metadata": {},
   "outputs": [],
   "source": []
  },
  {
   "cell_type": "code",
   "execution_count": null,
   "id": "2cbb7efb",
   "metadata": {},
   "outputs": [],
   "source": []
  },
  {
   "cell_type": "code",
   "execution_count": null,
   "id": "aa0ea52d",
   "metadata": {},
   "outputs": [],
   "source": []
  },
  {
   "cell_type": "code",
   "execution_count": null,
   "id": "4247fb61",
   "metadata": {},
   "outputs": [],
   "source": []
  },
  {
   "cell_type": "code",
   "execution_count": null,
   "id": "430ce7e0",
   "metadata": {},
   "outputs": [],
   "source": []
  },
  {
   "cell_type": "code",
   "execution_count": null,
   "id": "721d12d8",
   "metadata": {},
   "outputs": [],
   "source": []
  },
  {
   "cell_type": "code",
   "execution_count": null,
   "id": "9fbdd0bd",
   "metadata": {},
   "outputs": [],
   "source": []
  },
  {
   "cell_type": "code",
   "execution_count": null,
   "id": "cd813b92",
   "metadata": {},
   "outputs": [],
   "source": []
  },
  {
   "cell_type": "code",
   "execution_count": null,
   "id": "daa91cc8",
   "metadata": {},
   "outputs": [],
   "source": []
  },
  {
   "cell_type": "code",
   "execution_count": null,
   "id": "f7c864bc",
   "metadata": {},
   "outputs": [],
   "source": []
  },
  {
   "cell_type": "code",
   "execution_count": null,
   "id": "7c366e35",
   "metadata": {},
   "outputs": [],
   "source": []
  },
  {
   "cell_type": "code",
   "execution_count": null,
   "id": "c94f2002",
   "metadata": {},
   "outputs": [],
   "source": []
  },
  {
   "cell_type": "code",
   "execution_count": null,
   "id": "53b3ca98",
   "metadata": {},
   "outputs": [],
   "source": []
  },
  {
   "cell_type": "code",
   "execution_count": null,
   "id": "da8588fa",
   "metadata": {},
   "outputs": [],
   "source": []
  },
  {
   "cell_type": "code",
   "execution_count": null,
   "id": "c7f20463",
   "metadata": {},
   "outputs": [],
   "source": []
  },
  {
   "cell_type": "code",
   "execution_count": null,
   "id": "23189d2e",
   "metadata": {},
   "outputs": [],
   "source": []
  },
  {
   "cell_type": "code",
   "execution_count": null,
   "id": "ff556a0b",
   "metadata": {},
   "outputs": [],
   "source": []
  },
  {
   "cell_type": "code",
   "execution_count": null,
   "id": "713253f0",
   "metadata": {},
   "outputs": [],
   "source": []
  },
  {
   "cell_type": "code",
   "execution_count": null,
   "id": "4b21f0b1",
   "metadata": {},
   "outputs": [],
   "source": []
  },
  {
   "cell_type": "code",
   "execution_count": null,
   "id": "128f22ba",
   "metadata": {},
   "outputs": [],
   "source": []
  },
  {
   "cell_type": "code",
   "execution_count": null,
   "id": "07d35b07",
   "metadata": {},
   "outputs": [],
   "source": []
  },
  {
   "cell_type": "code",
   "execution_count": null,
   "id": "efcc5446",
   "metadata": {},
   "outputs": [],
   "source": []
  },
  {
   "cell_type": "code",
   "execution_count": null,
   "id": "d22f2df3",
   "metadata": {},
   "outputs": [],
   "source": []
  },
  {
   "cell_type": "code",
   "execution_count": null,
   "id": "06d7c45c",
   "metadata": {},
   "outputs": [],
   "source": []
  },
  {
   "cell_type": "code",
   "execution_count": null,
   "id": "79373a90",
   "metadata": {},
   "outputs": [],
   "source": []
  },
  {
   "cell_type": "code",
   "execution_count": null,
   "id": "e253a66d",
   "metadata": {},
   "outputs": [],
   "source": []
  },
  {
   "cell_type": "code",
   "execution_count": null,
   "id": "bbda15cd",
   "metadata": {},
   "outputs": [],
   "source": []
  }
 ],
 "metadata": {
  "kernelspec": {
   "display_name": "Python 3 (ipykernel)",
   "language": "python",
   "name": "python3"
  },
  "language_info": {
   "codemirror_mode": {
    "name": "ipython",
    "version": 3
   },
   "file_extension": ".py",
   "mimetype": "text/x-python",
   "name": "python",
   "nbconvert_exporter": "python",
   "pygments_lexer": "ipython3",
   "version": "3.9.13"
  }
 },
 "nbformat": 4,
 "nbformat_minor": 5
}
